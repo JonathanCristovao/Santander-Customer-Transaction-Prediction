{
 "cells": [
  {
   "cell_type": "code",
   "execution_count": 18,
   "metadata": {},
   "outputs": [],
   "source": [
    "#import modulos \n",
    "import pandas as pd\n",
    "import matplotlib.pyplot as plt\n",
    "import numpy as np\n",
    "import seaborn as sns\n",
    "\n",
    "from sklearn.pipeline import Pipeline\n",
    "from sklearn.preprocessing import StandardScaler\n",
    "from sklearn.model_selection import GridSearchCV\n",
    "from sklearn.model_selection import train_test_split"
   ]
  },
  {
   "cell_type": "code",
   "execution_count": 19,
   "metadata": {},
   "outputs": [
    {
     "data": {
      "text/html": [
       "<div>\n",
       "<style scoped>\n",
       "    .dataframe tbody tr th:only-of-type {\n",
       "        vertical-align: middle;\n",
       "    }\n",
       "\n",
       "    .dataframe tbody tr th {\n",
       "        vertical-align: top;\n",
       "    }\n",
       "\n",
       "    .dataframe thead th {\n",
       "        text-align: right;\n",
       "    }\n",
       "</style>\n",
       "<table border=\"1\" class=\"dataframe\">\n",
       "  <thead>\n",
       "    <tr style=\"text-align: right;\">\n",
       "      <th></th>\n",
       "      <th>ID_code</th>\n",
       "      <th>target</th>\n",
       "      <th>var_0</th>\n",
       "      <th>var_1</th>\n",
       "      <th>var_2</th>\n",
       "      <th>var_3</th>\n",
       "      <th>var_4</th>\n",
       "      <th>var_5</th>\n",
       "      <th>var_6</th>\n",
       "      <th>var_7</th>\n",
       "      <th>...</th>\n",
       "      <th>var_190</th>\n",
       "      <th>var_191</th>\n",
       "      <th>var_192</th>\n",
       "      <th>var_193</th>\n",
       "      <th>var_194</th>\n",
       "      <th>var_195</th>\n",
       "      <th>var_196</th>\n",
       "      <th>var_197</th>\n",
       "      <th>var_198</th>\n",
       "      <th>var_199</th>\n",
       "    </tr>\n",
       "  </thead>\n",
       "  <tbody>\n",
       "    <tr>\n",
       "      <th>0</th>\n",
       "      <td>train_150000</td>\n",
       "      <td>0</td>\n",
       "      <td>11.2677</td>\n",
       "      <td>2.9361</td>\n",
       "      <td>8.9304</td>\n",
       "      <td>7.1718</td>\n",
       "      <td>12.6826</td>\n",
       "      <td>1.4096</td>\n",
       "      <td>5.5708</td>\n",
       "      <td>18.9360</td>\n",
       "      <td>...</td>\n",
       "      <td>8.2134</td>\n",
       "      <td>5.6091</td>\n",
       "      <td>1.0664</td>\n",
       "      <td>1.5259</td>\n",
       "      <td>13.5576</td>\n",
       "      <td>2.5019</td>\n",
       "      <td>-2.0697</td>\n",
       "      <td>9.6857</td>\n",
       "      <td>15.1098</td>\n",
       "      <td>17.4865</td>\n",
       "    </tr>\n",
       "    <tr>\n",
       "      <th>1</th>\n",
       "      <td>train_150001</td>\n",
       "      <td>0</td>\n",
       "      <td>9.1546</td>\n",
       "      <td>2.2189</td>\n",
       "      <td>7.5189</td>\n",
       "      <td>4.6808</td>\n",
       "      <td>10.2911</td>\n",
       "      <td>-11.7870</td>\n",
       "      <td>4.6796</td>\n",
       "      <td>17.1627</td>\n",
       "      <td>...</td>\n",
       "      <td>-1.5557</td>\n",
       "      <td>6.5153</td>\n",
       "      <td>-1.2182</td>\n",
       "      <td>-0.8338</td>\n",
       "      <td>16.1222</td>\n",
       "      <td>-0.6614</td>\n",
       "      <td>3.5941</td>\n",
       "      <td>8.8340</td>\n",
       "      <td>16.6121</td>\n",
       "      <td>10.2198</td>\n",
       "    </tr>\n",
       "    <tr>\n",
       "      <th>2</th>\n",
       "      <td>train_150002</td>\n",
       "      <td>0</td>\n",
       "      <td>11.4313</td>\n",
       "      <td>-5.1949</td>\n",
       "      <td>7.7460</td>\n",
       "      <td>11.4524</td>\n",
       "      <td>12.4896</td>\n",
       "      <td>-7.3724</td>\n",
       "      <td>6.0505</td>\n",
       "      <td>14.5978</td>\n",
       "      <td>...</td>\n",
       "      <td>0.7787</td>\n",
       "      <td>2.0775</td>\n",
       "      <td>2.1534</td>\n",
       "      <td>-5.2059</td>\n",
       "      <td>18.3996</td>\n",
       "      <td>0.7312</td>\n",
       "      <td>9.8636</td>\n",
       "      <td>9.7021</td>\n",
       "      <td>8.9396</td>\n",
       "      <td>-6.0436</td>\n",
       "    </tr>\n",
       "    <tr>\n",
       "      <th>3</th>\n",
       "      <td>train_150003</td>\n",
       "      <td>0</td>\n",
       "      <td>13.0385</td>\n",
       "      <td>1.1188</td>\n",
       "      <td>9.4104</td>\n",
       "      <td>5.8001</td>\n",
       "      <td>14.5713</td>\n",
       "      <td>10.0653</td>\n",
       "      <td>6.3155</td>\n",
       "      <td>15.8367</td>\n",
       "      <td>...</td>\n",
       "      <td>8.6692</td>\n",
       "      <td>4.4282</td>\n",
       "      <td>4.1775</td>\n",
       "      <td>5.4931</td>\n",
       "      <td>14.6043</td>\n",
       "      <td>-2.1328</td>\n",
       "      <td>3.3064</td>\n",
       "      <td>8.9362</td>\n",
       "      <td>13.9488</td>\n",
       "      <td>-22.6320</td>\n",
       "    </tr>\n",
       "    <tr>\n",
       "      <th>4</th>\n",
       "      <td>train_150004</td>\n",
       "      <td>0</td>\n",
       "      <td>9.7065</td>\n",
       "      <td>-4.6400</td>\n",
       "      <td>8.8325</td>\n",
       "      <td>6.5866</td>\n",
       "      <td>13.8771</td>\n",
       "      <td>-6.1068</td>\n",
       "      <td>4.6322</td>\n",
       "      <td>15.3737</td>\n",
       "      <td>...</td>\n",
       "      <td>4.6171</td>\n",
       "      <td>8.6005</td>\n",
       "      <td>5.5753</td>\n",
       "      <td>6.8578</td>\n",
       "      <td>14.3485</td>\n",
       "      <td>1.7902</td>\n",
       "      <td>-0.7680</td>\n",
       "      <td>7.9468</td>\n",
       "      <td>15.1672</td>\n",
       "      <td>-3.9796</td>\n",
       "    </tr>\n",
       "  </tbody>\n",
       "</table>\n",
       "<p>5 rows × 202 columns</p>\n",
       "</div>"
      ],
      "text/plain": [
       "        ID_code  target    var_0   var_1   var_2    var_3    var_4    var_5  \\\n",
       "0  train_150000       0  11.2677  2.9361  8.9304   7.1718  12.6826   1.4096   \n",
       "1  train_150001       0   9.1546  2.2189  7.5189   4.6808  10.2911 -11.7870   \n",
       "2  train_150002       0  11.4313 -5.1949  7.7460  11.4524  12.4896  -7.3724   \n",
       "3  train_150003       0  13.0385  1.1188  9.4104   5.8001  14.5713  10.0653   \n",
       "4  train_150004       0   9.7065 -4.6400  8.8325   6.5866  13.8771  -6.1068   \n",
       "\n",
       "    var_6    var_7  ...  var_190  var_191  var_192  var_193  var_194  var_195  \\\n",
       "0  5.5708  18.9360  ...   8.2134   5.6091   1.0664   1.5259  13.5576   2.5019   \n",
       "1  4.6796  17.1627  ...  -1.5557   6.5153  -1.2182  -0.8338  16.1222  -0.6614   \n",
       "2  6.0505  14.5978  ...   0.7787   2.0775   2.1534  -5.2059  18.3996   0.7312   \n",
       "3  6.3155  15.8367  ...   8.6692   4.4282   4.1775   5.4931  14.6043  -2.1328   \n",
       "4  4.6322  15.3737  ...   4.6171   8.6005   5.5753   6.8578  14.3485   1.7902   \n",
       "\n",
       "   var_196  var_197  var_198  var_199  \n",
       "0  -2.0697   9.6857  15.1098  17.4865  \n",
       "1   3.5941   8.8340  16.6121  10.2198  \n",
       "2   9.8636   9.7021   8.9396  -6.0436  \n",
       "3   3.3064   8.9362  13.9488 -22.6320  \n",
       "4  -0.7680   7.9468  15.1672  -3.9796  \n",
       "\n",
       "[5 rows x 202 columns]"
      ]
     },
     "execution_count": 19,
     "metadata": {},
     "output_type": "execute_result"
    }
   ],
   "source": [
    "df = pd.read_csv(\"train_new.csv\")\n",
    "df.head()"
   ]
  },
  {
   "cell_type": "code",
   "execution_count": 20,
   "metadata": {},
   "outputs": [
    {
     "name": "stdout",
     "output_type": "stream",
     "text": [
      "Informação dos dados:\n",
      "<class 'pandas.core.frame.DataFrame'>\n",
      "RangeIndex: 50000 entries, 0 to 49999\n",
      "Columns: 202 entries, ID_code to var_199\n",
      "dtypes: float64(200), int64(1), object(1)\n",
      "memory usage: 77.1+ MB\n",
      "Descrição dos dados:\n",
      "numero de dados nulos:\n",
      "numero de dados dupicados:\n"
     ]
    },
    {
     "data": {
      "text/plain": [
       "0"
      ]
     },
     "execution_count": 20,
     "metadata": {},
     "output_type": "execute_result"
    }
   ],
   "source": [
    "print('Informação dos dados:')\n",
    "df.info()\n",
    "print('Descrição dos dados:')\n",
    "df.describe()\n",
    "\n",
    "print('numero de dados nulos:')\n",
    "df.isna().sum().sum()\n",
    "\n",
    "print('numero de dados dupicados:')\n",
    "df.duplicated().sum().sum()"
   ]
  },
  {
   "cell_type": "markdown",
   "metadata": {},
   "source": [
    "ETA"
   ]
  },
  {
   "cell_type": "code",
   "execution_count": 21,
   "metadata": {},
   "outputs": [
    {
     "name": "stderr",
     "output_type": "stream",
     "text": [
      "C:\\Users\\jonat\\AppData\\Roaming\\Python\\Python37\\site-packages\\seaborn\\_decorators.py:43: FutureWarning: Pass the following variables as keyword args: x, y. From version 0.12, the only valid positional argument will be `data`, and passing other arguments without an explicit keyword will result in an error or misinterpretation.\n",
      "  FutureWarning\n"
     ]
    },
    {
     "data": {
      "text/plain": [
       "Text(0.5, 1.0, 'Target variable count')"
      ]
     },
     "execution_count": 21,
     "metadata": {},
     "output_type": "execute_result"
    },
    {
     "data": {
      "image/png": "[encoded data removed]",
      "text/plain": [
       "<Figure size 432x288 with 1 Axes>"
      ]
     },
     "metadata": {
      "needs_background": "light"
     },
     "output_type": "display_data"
    }
   ],
   "source": [
    "# variavel target \n",
    "\n",
    "x = df['target'].value_counts().values\n",
    "sns.barplot([0,1], x)\n",
    "plt.title('Target variable count')"
   ]
  },
  {
   "cell_type": "markdown",
   "metadata": {},
   "source": [
    "Nota-se uma alto desbalanço no conjunto de dados para a variavel Target"
   ]
  },
  {
   "cell_type": "code",
   "execution_count": 22,
   "metadata": {},
   "outputs": [
    {
     "data": {
      "text/plain": [
       "0    5064\n",
       "1    5064\n",
       "Name: target, dtype: int64"
      ]
     },
     "execution_count": 22,
     "metadata": {},
     "output_type": "execute_result"
    }
   ],
   "source": [
    "# balanceando a variavel Target\n",
    "from sklearn.utils import resample\n",
    "\n",
    "t_0 = df[df.target == 0]\n",
    "t_1 = df[df.target == 1]\n",
    "\n",
    "t_0_balanced = resample(t_0, replace = False, n_samples = len(t_1), random_state = 13)\n",
    "\n",
    "train_balanced = pd.concat([t_0_balanced, t_1])\n",
    "train_balanced.target.value_counts()"
   ]
  },
  {
   "cell_type": "code",
   "execution_count": 23,
   "metadata": {},
   "outputs": [
    {
     "name": "stderr",
     "output_type": "stream",
     "text": [
      "C:\\Users\\jonat\\AppData\\Roaming\\Python\\Python37\\site-packages\\seaborn\\_decorators.py:43: FutureWarning: Pass the following variables as keyword args: x, y. From version 0.12, the only valid positional argument will be `data`, and passing other arguments without an explicit keyword will result in an error or misinterpretation.\n",
      "  FutureWarning\n"
     ]
    },
    {
     "data": {
      "text/plain": [
       "Text(0.5, 1.0, 'Target variable count')"
      ]
     },
     "execution_count": 23,
     "metadata": {},
     "output_type": "execute_result"
    },
    {
     "data": {
      "image/png": "[encoded data removed]",
      "text/plain": [
       "<Figure size 432x288 with 1 Axes>"
      ]
     },
     "metadata": {
      "needs_background": "light"
     },
     "output_type": "display_data"
    }
   ],
   "source": [
    "# variavel target \n",
    "\n",
    "x = train_balanced['target'].value_counts().values\n",
    "sns.barplot([0,1], x)\n",
    "plt.title('Target variable count')"
   ]
  },
  {
   "cell_type": "code",
   "execution_count": 24,
   "metadata": {},
   "outputs": [],
   "source": [
    "X = train_balanced.drop(['ID_code', 'target'], axis=1)\n",
    "y = train_balanced['target']"
   ]
  },
  {
   "cell_type": "markdown",
   "metadata": {},
   "source": [
    "# Model training"
   ]
  },
  {
   "cell_type": "code",
   "execution_count": null,
   "metadata": {},
   "outputs": [],
   "source": []
  }
 ],
 "metadata": {
  "kernelspec": {
   "display_name": "Python 3.7.6 ('base')",
   "language": "python",
   "name": "python3"
  },
  "language_info": {
   "codemirror_mode": {
    "name": "ipython",
    "version": 3
   },
   "file_extension": ".py",
   "mimetype": "text/x-python",
   "name": "python",
   "nbconvert_exporter": "python",
   "pygments_lexer": "ipython3",
   "version": "3.7.6"
  },
  "orig_nbformat": 4,
  "vscode": {
   "interpreter": {
    "hash": "ad2bdc8ecc057115af97d19610ffacc2b4e99fae6737bb82f5d7fb13d2f2c186"
   }
  }
 },
 "nbformat": 4,
 "nbformat_minor": 2
}
